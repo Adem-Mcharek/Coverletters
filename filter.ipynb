{
 "cells": [
  {
   "cell_type": "code",
   "execution_count": 10,
   "metadata": {},
   "outputs": [],
   "source": [
    "import pandas as pd"
   ]
  },
  {
   "cell_type": "code",
   "execution_count": 11,
   "metadata": {},
   "outputs": [],
   "source": [
    "# Read the original CSV file\n",
    "df = pd.read_csv('updated_data.csv')"
   ]
  },
  {
   "cell_type": "code",
   "execution_count": 12,
   "metadata": {},
   "outputs": [],
   "source": [
    "keywords='AI ML MACHINE LEARNING DATA SCIENCE ANALETICS NVIDIA HUGGIN FACE'\n",
    "keywords= keywords.replace(' ', '|')"
   ]
  },
  {
   "cell_type": "code",
   "execution_count": 13,
   "metadata": {},
   "outputs": [
    {
     "data": {
      "text/plain": [
       "'AI|ML|MACHINE|LEARNING|DATA|SCIENCE|ANALETICS|NVIDIA|HUGGIN|FACE'"
      ]
     },
     "execution_count": 13,
     "metadata": {},
     "output_type": "execute_result"
    }
   ],
   "source": [
    "keywords"
   ]
  },
  {
   "cell_type": "code",
   "execution_count": 15,
   "metadata": {},
   "outputs": [],
   "source": [
    "# Create a filter to find rows where 'Role' includes either 'word' or 'wordkk'\n",
    "filter_condition = df['Roles'].str.contains(keywords, case=False, na=False)"
   ]
  },
  {
   "cell_type": "code",
   "execution_count": 16,
   "metadata": {},
   "outputs": [
    {
     "name": "stdout",
     "output_type": "stream",
     "text": [
      "Filtered data saved to filtered_file.csv\n"
     ]
    }
   ],
   "source": [
    "# Apply the filter and extract the rows that meet the condition\n",
    "filtered_rows = df[filter_condition]\n",
    "\n",
    "# Save the filtered rows to a new CSV file\n",
    "filtered_rows.to_csv('filtered_file.csv', index=False)\n",
    "\n",
    "print(\"Filtered data saved to filtered_file.csv\")"
   ]
  }
 ],
 "metadata": {
  "kernelspec": {
   "display_name": "tfod",
   "language": "python",
   "name": "python3"
  },
  "language_info": {
   "codemirror_mode": {
    "name": "ipython",
    "version": 3
   },
   "file_extension": ".py",
   "mimetype": "text/x-python",
   "name": "python",
   "nbconvert_exporter": "python",
   "pygments_lexer": "ipython3",
   "version": "3.11.2"
  }
 },
 "nbformat": 4,
 "nbformat_minor": 2
}
