{
 "cells": [
  {
   "cell_type": "code",
   "execution_count": 1,
   "metadata": {},
   "outputs": [],
   "source": [
    "import os\n",
    "import numpy as np\n",
    "import pandas as pd\n",
    "import openpyxl\n",
    "import re"
   ]
  },
  {
   "cell_type": "code",
   "execution_count": 2,
   "metadata": {},
   "outputs": [
    {
     "name": "stdout",
     "output_type": "stream",
     "text": [
      "Requirement already satisfied: openpyxl in c:\\users\\adem mcharek\\fruits\\build\\tfod\\lib\\site-packages (3.1.2)\n",
      "Requirement already satisfied: et-xmlfile in c:\\users\\adem mcharek\\fruits\\build\\tfod\\lib\\site-packages (from openpyxl) (1.1.0)\n"
     ]
    },
    {
     "name": "stderr",
     "output_type": "stream",
     "text": [
      "DEPRECATION: Loading egg at c:\\users\\adem mcharek\\fruits\\build\\tfod\\lib\\site-packages\\apache_beam-2.47.0rc1-py3.11-win-amd64.egg is deprecated. pip 24.3 will enforce this behaviour change. A possible replacement is to use pip for package installation.. Discussion can be found at https://github.com/pypa/pip/issues/12330\n",
      "DEPRECATION: Loading egg at c:\\users\\adem mcharek\\fruits\\build\\tfod\\lib\\site-packages\\avro_python3-1.10.2-py3.11.egg is deprecated. pip 24.3 will enforce this behaviour change. A possible replacement is to use pip for package installation.. Discussion can be found at https://github.com/pypa/pip/issues/12330\n",
      "DEPRECATION: Loading egg at c:\\users\\adem mcharek\\fruits\\build\\tfod\\lib\\site-packages\\contextlib2-21.6.0-py3.11.egg is deprecated. pip 24.3 will enforce this behaviour change. A possible replacement is to use pip for package installation.. Discussion can be found at https://github.com/pypa/pip/issues/12330\n",
      "DEPRECATION: Loading egg at c:\\users\\adem mcharek\\fruits\\build\\tfod\\lib\\site-packages\\cython-3.0.0b2-py3.11.egg is deprecated. pip 24.3 will enforce this behaviour change. A possible replacement is to use pip for package installation.. Discussion can be found at https://github.com/pypa/pip/issues/12330\n",
      "DEPRECATION: Loading egg at c:\\users\\adem mcharek\\fruits\\build\\tfod\\lib\\site-packages\\keras-2.12.0-py3.11.egg is deprecated. pip 24.3 will enforce this behaviour change. A possible replacement is to use pip for package installation.. Discussion can be found at https://github.com/pypa/pip/issues/12330\n",
      "DEPRECATION: Loading egg at c:\\users\\adem mcharek\\fruits\\build\\tfod\\lib\\site-packages\\lvis-0.5.3-py3.11.egg is deprecated. pip 24.3 will enforce this behaviour change. A possible replacement is to use pip for package installation.. Discussion can be found at https://github.com/pypa/pip/issues/12330\n",
      "DEPRECATION: Loading egg at c:\\users\\adem mcharek\\fruits\\build\\tfod\\lib\\site-packages\\object_detection-0.1-py3.11.egg is deprecated. pip 24.3 will enforce this behaviour change. A possible replacement is to use pip for package installation.. Discussion can be found at https://github.com/pypa/pip/issues/12330\n",
      "DEPRECATION: Loading egg at c:\\users\\adem mcharek\\fruits\\build\\tfod\\lib\\site-packages\\pandas-2.0.0-py3.11-win-amd64.egg is deprecated. pip 24.3 will enforce this behaviour change. A possible replacement is to use pip for package installation.. Discussion can be found at https://github.com/pypa/pip/issues/12330\n",
      "DEPRECATION: Loading egg at c:\\users\\adem mcharek\\fruits\\build\\tfod\\lib\\site-packages\\portalocker-2.7.0-py3.11.egg is deprecated. pip 24.3 will enforce this behaviour change. A possible replacement is to use pip for package installation.. Discussion can be found at https://github.com/pypa/pip/issues/12330\n",
      "DEPRECATION: Loading egg at c:\\users\\adem mcharek\\fruits\\build\\tfod\\lib\\site-packages\\pyparsing-2.4.7-py3.11.egg is deprecated. pip 24.3 will enforce this behaviour change. A possible replacement is to use pip for package installation.. Discussion can be found at https://github.com/pypa/pip/issues/12330\n",
      "DEPRECATION: Loading egg at c:\\users\\adem mcharek\\fruits\\build\\tfod\\lib\\site-packages\\regex-2023.3.23-py3.11-win-amd64.egg is deprecated. pip 24.3 will enforce this behaviour change. A possible replacement is to use pip for package installation.. Discussion can be found at https://github.com/pypa/pip/issues/12330\n",
      "DEPRECATION: Loading egg at c:\\users\\adem mcharek\\fruits\\build\\tfod\\lib\\site-packages\\sacrebleu-2.2.0-py3.11.egg is deprecated. pip 24.3 will enforce this behaviour change. A possible replacement is to use pip for package installation.. Discussion can be found at https://github.com/pypa/pip/issues/12330\n",
      "DEPRECATION: Loading egg at c:\\users\\adem mcharek\\fruits\\build\\tfod\\lib\\site-packages\\scipy-1.10.1-py3.11-win-amd64.egg is deprecated. pip 24.3 will enforce this behaviour change. A possible replacement is to use pip for package installation.. Discussion can be found at https://github.com/pypa/pip/issues/12330\n",
      "DEPRECATION: Loading egg at c:\\users\\adem mcharek\\fruits\\build\\tfod\\lib\\site-packages\\tabulate-0.9.0-py3.11.egg is deprecated. pip 24.3 will enforce this behaviour change. A possible replacement is to use pip for package installation.. Discussion can be found at https://github.com/pypa/pip/issues/12330\n",
      "DEPRECATION: Loading egg at c:\\users\\adem mcharek\\fruits\\build\\tfod\\lib\\site-packages\\tensorflow_io-0.31.0-py3.11-win-amd64.egg is deprecated. pip 24.3 will enforce this behaviour change. A possible replacement is to use pip for package installation.. Discussion can be found at https://github.com/pypa/pip/issues/12330\n",
      "DEPRECATION: Loading egg at c:\\users\\adem mcharek\\fruits\\build\\tfod\\lib\\site-packages\\tf_models_official-2.12.0-py3.11.egg is deprecated. pip 24.3 will enforce this behaviour change. A possible replacement is to use pip for package installation.. Discussion can be found at https://github.com/pypa/pip/issues/12330\n"
     ]
    }
   ],
   "source": [
    "!pip install openpyxl"
   ]
  },
  {
   "cell_type": "code",
   "execution_count": 3,
   "metadata": {},
   "outputs": [
    {
     "data": {
      "text/html": [
       "<div>\n",
       "<style scoped>\n",
       "    .dataframe tbody tr th:only-of-type {\n",
       "        vertical-align: middle;\n",
       "    }\n",
       "\n",
       "    .dataframe tbody tr th {\n",
       "        vertical-align: top;\n",
       "    }\n",
       "\n",
       "    .dataframe thead th {\n",
       "        text-align: right;\n",
       "    }\n",
       "</style>\n",
       "<table border=\"1\" class=\"dataframe\">\n",
       "  <thead>\n",
       "    <tr style=\"text-align: right;\">\n",
       "      <th></th>\n",
       "      <th>Company</th>\n",
       "      <th>Role</th>\n",
       "      <th>Location</th>\n",
       "      <th>Application/Link</th>\n",
       "      <th>Date Posted</th>\n",
       "    </tr>\n",
       "  </thead>\n",
       "  <tbody>\n",
       "    <tr>\n",
       "      <th>0</th>\n",
       "      <td>**[Zoox](https://simplify.jobs/c/Zoox)**</td>\n",
       "      <td>Perception Intern</td>\n",
       "      <td>San Mateo, CA</td>\n",
       "      <td>&lt;a href=https://jobs.lever.co/zoox/879af812-dd...</td>\n",
       "      <td>Feb 16</td>\n",
       "    </tr>\n",
       "    <tr>\n",
       "      <th>1</th>\n",
       "      <td>**[Wisk](https://simplify.jobs/c/wisk-aero)**</td>\n",
       "      <td>Software Development Intern / Stagiaire en dév...</td>\n",
       "      <td>Montreal, QC, Canada</td>\n",
       "      <td>&lt;a href=https://jobs.lever.co/wisk/65d5c693-97...</td>\n",
       "      <td>Feb 16</td>\n",
       "    </tr>\n",
       "    <tr>\n",
       "      <th>2</th>\n",
       "      <td>↳</td>\n",
       "      <td>Software Intern</td>\n",
       "      <td>Mountain View, CA</td>\n",
       "      <td>&lt;a href=https://jobs.lever.co/wisk/5cfc99ef-2e...</td>\n",
       "      <td>Feb 16</td>\n",
       "    </tr>\n",
       "    <tr>\n",
       "      <th>3</th>\n",
       "      <td>↳</td>\n",
       "      <td>Information Technology Intern</td>\n",
       "      <td>Mountain View, CA</td>\n",
       "      <td>&lt;a href=https://jobs.lever.co/wisk/d9a2231b-7e...</td>\n",
       "      <td>Feb 16</td>\n",
       "    </tr>\n",
       "    <tr>\n",
       "      <th>4</th>\n",
       "      <td>↳</td>\n",
       "      <td>BMS Software Engineering Intern</td>\n",
       "      <td>Mountain View, CA</td>\n",
       "      <td>&lt;a href=https://jobs.lever.co/wisk/d96c8ba0-eb...</td>\n",
       "      <td>Feb 16</td>\n",
       "    </tr>\n",
       "  </tbody>\n",
       "</table>\n",
       "</div>"
      ],
      "text/plain": [
       "                                         Company   \n",
       "0       **[Zoox](https://simplify.jobs/c/Zoox)**  \\\n",
       "1  **[Wisk](https://simplify.jobs/c/wisk-aero)**   \n",
       "2                                              ↳   \n",
       "3                                              ↳   \n",
       "4                                              ↳   \n",
       "\n",
       "                                                Role              Location   \n",
       "0                                  Perception Intern         San Mateo, CA  \\\n",
       "1  Software Development Intern / Stagiaire en dév...  Montreal, QC, Canada   \n",
       "2                                    Software Intern     Mountain View, CA   \n",
       "3                      Information Technology Intern     Mountain View, CA   \n",
       "4                    BMS Software Engineering Intern     Mountain View, CA   \n",
       "\n",
       "                                    Application/Link Date Posted  \n",
       "0  <a href=https://jobs.lever.co/zoox/879af812-dd...      Feb 16  \n",
       "1  <a href=https://jobs.lever.co/wisk/65d5c693-97...      Feb 16  \n",
       "2  <a href=https://jobs.lever.co/wisk/5cfc99ef-2e...      Feb 16  \n",
       "3  <a href=https://jobs.lever.co/wisk/d9a2231b-7e...      Feb 16  \n",
       "4  <a href=https://jobs.lever.co/wisk/d96c8ba0-eb...      Feb 16  "
      ]
     },
     "execution_count": 3,
     "metadata": {},
     "output_type": "execute_result"
    }
   ],
   "source": [
    "filepath = '2-17-24.csv'\n",
    "data = pd.read_csv(filepath)\n",
    "data.head()"
   ]
  },
  {
   "cell_type": "code",
   "execution_count": 4,
   "metadata": {},
   "outputs": [
    {
     "data": {
      "text/html": [
       "<div>\n",
       "<style scoped>\n",
       "    .dataframe tbody tr th:only-of-type {\n",
       "        vertical-align: middle;\n",
       "    }\n",
       "\n",
       "    .dataframe tbody tr th {\n",
       "        vertical-align: top;\n",
       "    }\n",
       "\n",
       "    .dataframe thead th {\n",
       "        text-align: right;\n",
       "    }\n",
       "</style>\n",
       "<table border=\"1\" class=\"dataframe\">\n",
       "  <thead>\n",
       "    <tr style=\"text-align: right;\">\n",
       "      <th></th>\n",
       "      <th>Company</th>\n",
       "      <th>Role</th>\n",
       "      <th>Location</th>\n",
       "      <th>Application/Link</th>\n",
       "      <th>Date Posted</th>\n",
       "    </tr>\n",
       "  </thead>\n",
       "  <tbody>\n",
       "    <tr>\n",
       "      <th>0</th>\n",
       "      <td>Zoox</td>\n",
       "      <td>Perception Intern</td>\n",
       "      <td>San Mateo, CA</td>\n",
       "      <td>&lt;a href=https://jobs.lever.co/zoox/879af812-dd...</td>\n",
       "      <td>Feb 16</td>\n",
       "    </tr>\n",
       "    <tr>\n",
       "      <th>1</th>\n",
       "      <td>Wisk</td>\n",
       "      <td>Software Development Intern / Stagiaire en dév...</td>\n",
       "      <td>Montreal, QC, Canada</td>\n",
       "      <td>&lt;a href=https://jobs.lever.co/wisk/65d5c693-97...</td>\n",
       "      <td>Feb 16</td>\n",
       "    </tr>\n",
       "    <tr>\n",
       "      <th>2</th>\n",
       "      <td>NaN</td>\n",
       "      <td>Software Intern</td>\n",
       "      <td>Mountain View, CA</td>\n",
       "      <td>&lt;a href=https://jobs.lever.co/wisk/5cfc99ef-2e...</td>\n",
       "      <td>Feb 16</td>\n",
       "    </tr>\n",
       "    <tr>\n",
       "      <th>3</th>\n",
       "      <td>NaN</td>\n",
       "      <td>Information Technology Intern</td>\n",
       "      <td>Mountain View, CA</td>\n",
       "      <td>&lt;a href=https://jobs.lever.co/wisk/d9a2231b-7e...</td>\n",
       "      <td>Feb 16</td>\n",
       "    </tr>\n",
       "    <tr>\n",
       "      <th>4</th>\n",
       "      <td>NaN</td>\n",
       "      <td>BMS Software Engineering Intern</td>\n",
       "      <td>Mountain View, CA</td>\n",
       "      <td>&lt;a href=https://jobs.lever.co/wisk/d96c8ba0-eb...</td>\n",
       "      <td>Feb 16</td>\n",
       "    </tr>\n",
       "  </tbody>\n",
       "</table>\n",
       "</div>"
      ],
      "text/plain": [
       "  Company                                               Role   \n",
       "0    Zoox                                  Perception Intern  \\\n",
       "1    Wisk  Software Development Intern / Stagiaire en dév...   \n",
       "2     NaN                                    Software Intern   \n",
       "3     NaN                      Information Technology Intern   \n",
       "4     NaN                    BMS Software Engineering Intern   \n",
       "\n",
       "               Location                                   Application/Link   \n",
       "0         San Mateo, CA  <a href=https://jobs.lever.co/zoox/879af812-dd...  \\\n",
       "1  Montreal, QC, Canada  <a href=https://jobs.lever.co/wisk/65d5c693-97...   \n",
       "2     Mountain View, CA  <a href=https://jobs.lever.co/wisk/5cfc99ef-2e...   \n",
       "3     Mountain View, CA  <a href=https://jobs.lever.co/wisk/d9a2231b-7e...   \n",
       "4     Mountain View, CA  <a href=https://jobs.lever.co/wisk/d96c8ba0-eb...   \n",
       "\n",
       "  Date Posted  \n",
       "0      Feb 16  \n",
       "1      Feb 16  \n",
       "2      Feb 16  \n",
       "3      Feb 16  \n",
       "4      Feb 16  "
      ]
     },
     "execution_count": 4,
     "metadata": {},
     "output_type": "execute_result"
    }
   ],
   "source": [
    "data['Company'] = data.Company.str.extract(r'\\[(.*?)\\]', expand=False)\n",
    "\n",
    "data.head()"
   ]
  },
  {
   "cell_type": "code",
   "execution_count": 5,
   "metadata": {},
   "outputs": [
    {
     "data": {
      "text/plain": [
       "0      https://jobs.lever.co/zoox/879af812-dd13-4113-...\n",
       "1      https://jobs.lever.co/wisk/65d5c693-9701-4d64-...\n",
       "2      https://jobs.lever.co/wisk/5cfc99ef-2e2c-4923-...\n",
       "3      https://jobs.lever.co/wisk/d9a2231b-7e84-4742-...\n",
       "4      https://jobs.lever.co/wisk/d96c8ba0-eb19-4315-...\n",
       "                             ...                        \n",
       "271    https://www.amazon.jobs/en/jobs/2495700/jr-sof...\n",
       "272    https://matroid.breezy.hr/p/bf4668116295/apply...\n",
       "273    https://boards.greenhouse.io/gainternships/job...\n",
       "274    https://boards.greenhouse.io/drweng/jobs/55802...\n",
       "275    https://boseallaboutme.wd1.myworkdayjobs.com/e...\n",
       "Name: Application, Length: 276, dtype: object"
      ]
     },
     "execution_count": 5,
     "metadata": {},
     "output_type": "execute_result"
    }
   ],
   "source": [
    "data['Application'] = data['Application/Link'].str.extract(r'<a(.*?)a>', expand=False)\n",
    "data['Application'] = data['Application'].str.replace('href=', '')\n",
    "data['Application'] = data['Application'].str.extract(r'(https.*Simplify)', expand=False)\n",
    "data['Application']"
   ]
  },
  {
   "cell_type": "markdown",
   "metadata": {},
   "source": []
  },
  {
   "cell_type": "markdown",
   "metadata": {},
   "source": []
  },
  {
   "cell_type": "markdown",
   "metadata": {},
   "source": []
  },
  {
   "cell_type": "code",
   "execution_count": 6,
   "metadata": {},
   "outputs": [
    {
     "data": {
      "text/plain": [
       "'https://jobs.lever.co/wisk/65d5c693-9701-4d64-be58-dde85cb2cc03/apply?utm_source=Simplify&ref=Simplify'"
      ]
     },
     "execution_count": 6,
     "metadata": {},
     "output_type": "execute_result"
    }
   ],
   "source": [
    "data['Application'][1]"
   ]
  },
  {
   "cell_type": "code",
   "execution_count": 7,
   "metadata": {},
   "outputs": [
    {
     "data": {
      "text/plain": [
       "'https://simplify.jobs/p/b6993be6-b455-448e-b240-421054b25354?utm_source=GHList'"
      ]
     },
     "execution_count": 7,
     "metadata": {},
     "output_type": "execute_result"
    }
   ],
   "source": [
    "data['link'] = data['Application/Link'].str.extract(r'(https://simplify.*)')\n",
    "data['link'] = data['link'].str.replace(r'\".*', '\"')\n",
    "data['link'] = data['link'].str.extract(r'(https://[^\"\\s>]+)', expand=False) \n",
    "data['link'][1]"
   ]
  },
  {
   "cell_type": "code",
   "execution_count": 8,
   "metadata": {},
   "outputs": [
    {
     "data": {
      "text/plain": [
       "'https://simplify.jobs/p/b6993be6-b455-448e-b240-421054b25354?utm_source=GHList'"
      ]
     },
     "execution_count": 8,
     "metadata": {},
     "output_type": "execute_result"
    }
   ],
   "source": [
    "data['link'][1]"
   ]
  },
  {
   "cell_type": "code",
   "execution_count": 9,
   "metadata": {},
   "outputs": [],
   "source": [
    "\n",
    "mask = data['Location'].str.startswith('<')\n",
    "data.loc[mask, 'Location'] = data.loc[mask, 'Location'].str.extract(r'<\\*\\*(.*?)\\*\\*')\n"
   ]
  },
  {
   "cell_type": "code",
   "execution_count": 10,
   "metadata": {},
   "outputs": [],
   "source": [
    "data = data.drop('Application/Link', axis=1)\n"
   ]
  },
  {
   "cell_type": "code",
   "execution_count": 11,
   "metadata": {},
   "outputs": [
    {
     "data": {
      "text/html": [
       "<div>\n",
       "<style scoped>\n",
       "    .dataframe tbody tr th:only-of-type {\n",
       "        vertical-align: middle;\n",
       "    }\n",
       "\n",
       "    .dataframe tbody tr th {\n",
       "        vertical-align: top;\n",
       "    }\n",
       "\n",
       "    .dataframe thead th {\n",
       "        text-align: right;\n",
       "    }\n",
       "</style>\n",
       "<table border=\"1\" class=\"dataframe\">\n",
       "  <thead>\n",
       "    <tr style=\"text-align: right;\">\n",
       "      <th></th>\n",
       "      <th>Company</th>\n",
       "      <th>Role</th>\n",
       "      <th>Location</th>\n",
       "      <th>Date Posted</th>\n",
       "      <th>Application</th>\n",
       "      <th>link</th>\n",
       "    </tr>\n",
       "  </thead>\n",
       "  <tbody>\n",
       "    <tr>\n",
       "      <th>0</th>\n",
       "      <td>Zoox</td>\n",
       "      <td>Perception Intern</td>\n",
       "      <td>San Mateo, CA</td>\n",
       "      <td>Feb 16</td>\n",
       "      <td>https://jobs.lever.co/zoox/879af812-dd13-4113-...</td>\n",
       "      <td>https://simplify.jobs/p/1bd68e90-dac9-441c-877...</td>\n",
       "    </tr>\n",
       "    <tr>\n",
       "      <th>1</th>\n",
       "      <td>Wisk</td>\n",
       "      <td>Software Development Intern / Stagiaire en dév...</td>\n",
       "      <td>Montreal, QC, Canada</td>\n",
       "      <td>Feb 16</td>\n",
       "      <td>https://jobs.lever.co/wisk/65d5c693-9701-4d64-...</td>\n",
       "      <td>https://simplify.jobs/p/b6993be6-b455-448e-b24...</td>\n",
       "    </tr>\n",
       "    <tr>\n",
       "      <th>2</th>\n",
       "      <td>NaN</td>\n",
       "      <td>Software Intern</td>\n",
       "      <td>Mountain View, CA</td>\n",
       "      <td>Feb 16</td>\n",
       "      <td>https://jobs.lever.co/wisk/5cfc99ef-2e2c-4923-...</td>\n",
       "      <td>https://simplify.jobs/p/7bef5785-ef48-495f-a70...</td>\n",
       "    </tr>\n",
       "    <tr>\n",
       "      <th>3</th>\n",
       "      <td>NaN</td>\n",
       "      <td>Information Technology Intern</td>\n",
       "      <td>Mountain View, CA</td>\n",
       "      <td>Feb 16</td>\n",
       "      <td>https://jobs.lever.co/wisk/d9a2231b-7e84-4742-...</td>\n",
       "      <td>https://simplify.jobs/p/460f6e00-98a2-4318-95b...</td>\n",
       "    </tr>\n",
       "    <tr>\n",
       "      <th>4</th>\n",
       "      <td>NaN</td>\n",
       "      <td>BMS Software Engineering Intern</td>\n",
       "      <td>Mountain View, CA</td>\n",
       "      <td>Feb 16</td>\n",
       "      <td>https://jobs.lever.co/wisk/d96c8ba0-eb19-4315-...</td>\n",
       "      <td>https://simplify.jobs/p/efc1378d-f617-44bb-8f1...</td>\n",
       "    </tr>\n",
       "  </tbody>\n",
       "</table>\n",
       "</div>"
      ],
      "text/plain": [
       "  Company                                               Role   \n",
       "0    Zoox                                  Perception Intern  \\\n",
       "1    Wisk  Software Development Intern / Stagiaire en dév...   \n",
       "2     NaN                                    Software Intern   \n",
       "3     NaN                      Information Technology Intern   \n",
       "4     NaN                    BMS Software Engineering Intern   \n",
       "\n",
       "               Location Date Posted   \n",
       "0         San Mateo, CA      Feb 16  \\\n",
       "1  Montreal, QC, Canada      Feb 16   \n",
       "2     Mountain View, CA      Feb 16   \n",
       "3     Mountain View, CA      Feb 16   \n",
       "4     Mountain View, CA      Feb 16   \n",
       "\n",
       "                                         Application   \n",
       "0  https://jobs.lever.co/zoox/879af812-dd13-4113-...  \\\n",
       "1  https://jobs.lever.co/wisk/65d5c693-9701-4d64-...   \n",
       "2  https://jobs.lever.co/wisk/5cfc99ef-2e2c-4923-...   \n",
       "3  https://jobs.lever.co/wisk/d9a2231b-7e84-4742-...   \n",
       "4  https://jobs.lever.co/wisk/d96c8ba0-eb19-4315-...   \n",
       "\n",
       "                                                link  \n",
       "0  https://simplify.jobs/p/1bd68e90-dac9-441c-877...  \n",
       "1  https://simplify.jobs/p/b6993be6-b455-448e-b24...  \n",
       "2  https://simplify.jobs/p/7bef5785-ef48-495f-a70...  \n",
       "3  https://simplify.jobs/p/460f6e00-98a2-4318-95b...  \n",
       "4  https://simplify.jobs/p/efc1378d-f617-44bb-8f1...  "
      ]
     },
     "execution_count": 11,
     "metadata": {},
     "output_type": "execute_result"
    }
   ],
   "source": [
    "data.head()"
   ]
  },
  {
   "cell_type": "code",
   "execution_count": 12,
   "metadata": {},
   "outputs": [],
   "source": [
    "data['Company'].fillna(method='ffill', inplace=True)"
   ]
  },
  {
   "cell_type": "code",
   "execution_count": 14,
   "metadata": {},
   "outputs": [],
   "source": [
    "data['link'].fillna(method='ffill', inplace=True)"
   ]
  },
  {
   "cell_type": "code",
   "execution_count": 17,
   "metadata": {},
   "outputs": [],
   "source": [
    "data.rename(columns={'Date Posted': 'Date'}, inplace=True)\n"
   ]
  },
  {
   "cell_type": "code",
   "execution_count": 18,
   "metadata": {},
   "outputs": [
    {
     "data": {
      "text/html": [
       "<div>\n",
       "<style scoped>\n",
       "    .dataframe tbody tr th:only-of-type {\n",
       "        vertical-align: middle;\n",
       "    }\n",
       "\n",
       "    .dataframe tbody tr th {\n",
       "        vertical-align: top;\n",
       "    }\n",
       "\n",
       "    .dataframe thead th {\n",
       "        text-align: right;\n",
       "    }\n",
       "</style>\n",
       "<table border=\"1\" class=\"dataframe\">\n",
       "  <thead>\n",
       "    <tr style=\"text-align: right;\">\n",
       "      <th></th>\n",
       "      <th>Company</th>\n",
       "      <th>Role</th>\n",
       "      <th>Location</th>\n",
       "      <th>date</th>\n",
       "      <th>Application</th>\n",
       "      <th>link</th>\n",
       "    </tr>\n",
       "  </thead>\n",
       "  <tbody>\n",
       "    <tr>\n",
       "      <th>0</th>\n",
       "      <td>Zoox</td>\n",
       "      <td>Perception Intern</td>\n",
       "      <td>San Mateo, CA</td>\n",
       "      <td>Feb 16</td>\n",
       "      <td>https://jobs.lever.co/zoox/879af812-dd13-4113-...</td>\n",
       "      <td>https://simplify.jobs/p/1bd68e90-dac9-441c-877...</td>\n",
       "    </tr>\n",
       "    <tr>\n",
       "      <th>1</th>\n",
       "      <td>Wisk</td>\n",
       "      <td>Software Development Intern / Stagiaire en dév...</td>\n",
       "      <td>Montreal, QC, Canada</td>\n",
       "      <td>Feb 16</td>\n",
       "      <td>https://jobs.lever.co/wisk/65d5c693-9701-4d64-...</td>\n",
       "      <td>https://simplify.jobs/p/b6993be6-b455-448e-b24...</td>\n",
       "    </tr>\n",
       "    <tr>\n",
       "      <th>2</th>\n",
       "      <td>Wisk</td>\n",
       "      <td>Software Intern</td>\n",
       "      <td>Mountain View, CA</td>\n",
       "      <td>Feb 16</td>\n",
       "      <td>https://jobs.lever.co/wisk/5cfc99ef-2e2c-4923-...</td>\n",
       "      <td>https://simplify.jobs/p/7bef5785-ef48-495f-a70...</td>\n",
       "    </tr>\n",
       "    <tr>\n",
       "      <th>3</th>\n",
       "      <td>Wisk</td>\n",
       "      <td>Information Technology Intern</td>\n",
       "      <td>Mountain View, CA</td>\n",
       "      <td>Feb 16</td>\n",
       "      <td>https://jobs.lever.co/wisk/d9a2231b-7e84-4742-...</td>\n",
       "      <td>https://simplify.jobs/p/460f6e00-98a2-4318-95b...</td>\n",
       "    </tr>\n",
       "    <tr>\n",
       "      <th>4</th>\n",
       "      <td>Wisk</td>\n",
       "      <td>BMS Software Engineering Intern</td>\n",
       "      <td>Mountain View, CA</td>\n",
       "      <td>Feb 16</td>\n",
       "      <td>https://jobs.lever.co/wisk/d96c8ba0-eb19-4315-...</td>\n",
       "      <td>https://simplify.jobs/p/efc1378d-f617-44bb-8f1...</td>\n",
       "    </tr>\n",
       "  </tbody>\n",
       "</table>\n",
       "</div>"
      ],
      "text/plain": [
       "  Company                                               Role   \n",
       "0    Zoox                                  Perception Intern  \\\n",
       "1    Wisk  Software Development Intern / Stagiaire en dév...   \n",
       "2    Wisk                                    Software Intern   \n",
       "3    Wisk                      Information Technology Intern   \n",
       "4    Wisk                    BMS Software Engineering Intern   \n",
       "\n",
       "               Location    date   \n",
       "0         San Mateo, CA  Feb 16  \\\n",
       "1  Montreal, QC, Canada  Feb 16   \n",
       "2     Mountain View, CA  Feb 16   \n",
       "3     Mountain View, CA  Feb 16   \n",
       "4     Mountain View, CA  Feb 16   \n",
       "\n",
       "                                         Application   \n",
       "0  https://jobs.lever.co/zoox/879af812-dd13-4113-...  \\\n",
       "1  https://jobs.lever.co/wisk/65d5c693-9701-4d64-...   \n",
       "2  https://jobs.lever.co/wisk/5cfc99ef-2e2c-4923-...   \n",
       "3  https://jobs.lever.co/wisk/d9a2231b-7e84-4742-...   \n",
       "4  https://jobs.lever.co/wisk/d96c8ba0-eb19-4315-...   \n",
       "\n",
       "                                                link  \n",
       "0  https://simplify.jobs/p/1bd68e90-dac9-441c-877...  \n",
       "1  https://simplify.jobs/p/b6993be6-b455-448e-b24...  \n",
       "2  https://simplify.jobs/p/7bef5785-ef48-495f-a70...  \n",
       "3  https://simplify.jobs/p/460f6e00-98a2-4318-95b...  \n",
       "4  https://simplify.jobs/p/efc1378d-f617-44bb-8f1...  "
      ]
     },
     "execution_count": 18,
     "metadata": {},
     "output_type": "execute_result"
    }
   ],
   "source": [
    "data.head()"
   ]
  },
  {
   "cell_type": "code",
   "execution_count": 15,
   "metadata": {},
   "outputs": [],
   "source": [
    "data.to_excel('2-17-24.xlsx', index=False)\n"
   ]
  },
  {
   "cell_type": "code",
   "execution_count": 19,
   "metadata": {},
   "outputs": [],
   "source": [
    "data.to_csv('2-17-24-clean.csv', index=False)\n"
   ]
  },
  {
   "cell_type": "code",
   "execution_count": null,
   "metadata": {},
   "outputs": [],
   "source": []
  }
 ],
 "metadata": {
  "kernelspec": {
   "display_name": "Python 3",
   "language": "python",
   "name": "python3"
  },
  "language_info": {
   "codemirror_mode": {
    "name": "ipython",
    "version": 3
   },
   "file_extension": ".py",
   "mimetype": "text/x-python",
   "name": "python",
   "nbconvert_exporter": "python",
   "pygments_lexer": "ipython3",
   "version": "3.11.2"
  }
 },
 "nbformat": 4,
 "nbformat_minor": 2
}
