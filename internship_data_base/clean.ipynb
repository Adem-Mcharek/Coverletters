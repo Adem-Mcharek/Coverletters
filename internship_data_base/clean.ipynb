{
 "cells": [
  {
   "cell_type": "code",
   "execution_count": 3,
   "metadata": {},
   "outputs": [],
   "source": [
    "import os\n",
    "import numpy as np\n",
    "import pandas as pd\n",
    "import openpyxl\n",
    "import re"
   ]
  },
  {
   "cell_type": "code",
   "execution_count": 4,
   "metadata": {},
   "outputs": [
    {
     "name": "stdout",
     "output_type": "stream",
     "text": [
      "Requirement already satisfied: openpyxl in c:\\users\\adem mcharek\\fruits\\build\\tfod\\lib\\site-packages (3.1.2)\n",
      "Requirement already satisfied: et-xmlfile in c:\\users\\adem mcharek\\fruits\\build\\tfod\\lib\\site-packages (from openpyxl) (1.1.0)\n"
     ]
    },
    {
     "name": "stderr",
     "output_type": "stream",
     "text": [
      "DEPRECATION: Loading egg at c:\\users\\adem mcharek\\fruits\\build\\tfod\\lib\\site-packages\\apache_beam-2.47.0rc1-py3.11-win-amd64.egg is deprecated. pip 24.3 will enforce this behaviour change. A possible replacement is to use pip for package installation.. Discussion can be found at https://github.com/pypa/pip/issues/12330\n",
      "DEPRECATION: Loading egg at c:\\users\\adem mcharek\\fruits\\build\\tfod\\lib\\site-packages\\avro_python3-1.10.2-py3.11.egg is deprecated. pip 24.3 will enforce this behaviour change. A possible replacement is to use pip for package installation.. Discussion can be found at https://github.com/pypa/pip/issues/12330\n",
      "DEPRECATION: Loading egg at c:\\users\\adem mcharek\\fruits\\build\\tfod\\lib\\site-packages\\contextlib2-21.6.0-py3.11.egg is deprecated. pip 24.3 will enforce this behaviour change. A possible replacement is to use pip for package installation.. Discussion can be found at https://github.com/pypa/pip/issues/12330\n",
      "DEPRECATION: Loading egg at c:\\users\\adem mcharek\\fruits\\build\\tfod\\lib\\site-packages\\cython-3.0.0b2-py3.11.egg is deprecated. pip 24.3 will enforce this behaviour change. A possible replacement is to use pip for package installation.. Discussion can be found at https://github.com/pypa/pip/issues/12330\n",
      "DEPRECATION: Loading egg at c:\\users\\adem mcharek\\fruits\\build\\tfod\\lib\\site-packages\\keras-2.12.0-py3.11.egg is deprecated. pip 24.3 will enforce this behaviour change. A possible replacement is to use pip for package installation.. Discussion can be found at https://github.com/pypa/pip/issues/12330\n",
      "DEPRECATION: Loading egg at c:\\users\\adem mcharek\\fruits\\build\\tfod\\lib\\site-packages\\lvis-0.5.3-py3.11.egg is deprecated. pip 24.3 will enforce this behaviour change. A possible replacement is to use pip for package installation.. Discussion can be found at https://github.com/pypa/pip/issues/12330\n",
      "DEPRECATION: Loading egg at c:\\users\\adem mcharek\\fruits\\build\\tfod\\lib\\site-packages\\object_detection-0.1-py3.11.egg is deprecated. pip 24.3 will enforce this behaviour change. A possible replacement is to use pip for package installation.. Discussion can be found at https://github.com/pypa/pip/issues/12330\n",
      "DEPRECATION: Loading egg at c:\\users\\adem mcharek\\fruits\\build\\tfod\\lib\\site-packages\\pandas-2.0.0-py3.11-win-amd64.egg is deprecated. pip 24.3 will enforce this behaviour change. A possible replacement is to use pip for package installation.. Discussion can be found at https://github.com/pypa/pip/issues/12330\n",
      "DEPRECATION: Loading egg at c:\\users\\adem mcharek\\fruits\\build\\tfod\\lib\\site-packages\\portalocker-2.7.0-py3.11.egg is deprecated. pip 24.3 will enforce this behaviour change. A possible replacement is to use pip for package installation.. Discussion can be found at https://github.com/pypa/pip/issues/12330\n",
      "DEPRECATION: Loading egg at c:\\users\\adem mcharek\\fruits\\build\\tfod\\lib\\site-packages\\pyparsing-2.4.7-py3.11.egg is deprecated. pip 24.3 will enforce this behaviour change. A possible replacement is to use pip for package installation.. Discussion can be found at https://github.com/pypa/pip/issues/12330\n",
      "DEPRECATION: Loading egg at c:\\users\\adem mcharek\\fruits\\build\\tfod\\lib\\site-packages\\regex-2023.3.23-py3.11-win-amd64.egg is deprecated. pip 24.3 will enforce this behaviour change. A possible replacement is to use pip for package installation.. Discussion can be found at https://github.com/pypa/pip/issues/12330\n",
      "DEPRECATION: Loading egg at c:\\users\\adem mcharek\\fruits\\build\\tfod\\lib\\site-packages\\sacrebleu-2.2.0-py3.11.egg is deprecated. pip 24.3 will enforce this behaviour change. A possible replacement is to use pip for package installation.. Discussion can be found at https://github.com/pypa/pip/issues/12330\n",
      "DEPRECATION: Loading egg at c:\\users\\adem mcharek\\fruits\\build\\tfod\\lib\\site-packages\\scipy-1.10.1-py3.11-win-amd64.egg is deprecated. pip 24.3 will enforce this behaviour change. A possible replacement is to use pip for package installation.. Discussion can be found at https://github.com/pypa/pip/issues/12330\n",
      "DEPRECATION: Loading egg at c:\\users\\adem mcharek\\fruits\\build\\tfod\\lib\\site-packages\\tabulate-0.9.0-py3.11.egg is deprecated. pip 24.3 will enforce this behaviour change. A possible replacement is to use pip for package installation.. Discussion can be found at https://github.com/pypa/pip/issues/12330\n",
      "DEPRECATION: Loading egg at c:\\users\\adem mcharek\\fruits\\build\\tfod\\lib\\site-packages\\tensorflow_io-0.31.0-py3.11-win-amd64.egg is deprecated. pip 24.3 will enforce this behaviour change. A possible replacement is to use pip for package installation.. Discussion can be found at https://github.com/pypa/pip/issues/12330\n",
      "DEPRECATION: Loading egg at c:\\users\\adem mcharek\\fruits\\build\\tfod\\lib\\site-packages\\tf_models_official-2.12.0-py3.11.egg is deprecated. pip 24.3 will enforce this behaviour change. A possible replacement is to use pip for package installation.. Discussion can be found at https://github.com/pypa/pip/issues/12330\n"
     ]
    }
   ],
   "source": [
    "!pip install openpyxl"
   ]
  },
  {
   "cell_type": "code",
   "execution_count": 5,
   "metadata": {},
   "outputs": [
    {
     "data": {
      "text/html": [
       "<div>\n",
       "<style scoped>\n",
       "    .dataframe tbody tr th:only-of-type {\n",
       "        vertical-align: middle;\n",
       "    }\n",
       "\n",
       "    .dataframe tbody tr th {\n",
       "        vertical-align: top;\n",
       "    }\n",
       "\n",
       "    .dataframe thead th {\n",
       "        text-align: right;\n",
       "    }\n",
       "</style>\n",
       "<table border=\"1\" class=\"dataframe\">\n",
       "  <thead>\n",
       "    <tr style=\"text-align: right;\">\n",
       "      <th></th>\n",
       "      <th>Company</th>\n",
       "      <th>Role</th>\n",
       "      <th>Location</th>\n",
       "      <th>Application/Link</th>\n",
       "      <th>Date Posted</th>\n",
       "    </tr>\n",
       "  </thead>\n",
       "  <tbody>\n",
       "    <tr>\n",
       "      <th>0</th>\n",
       "      <td>**[Western Digital](https://simplify.jobs/c/We...</td>\n",
       "      <td>Summer 2024 Software Engineering Intern</td>\n",
       "      <td>Longmont, CO</td>\n",
       "      <td>&lt;a href=https://jobs.smartrecruiters.com/Weste...</td>\n",
       "      <td>Mar 18</td>\n",
       "    </tr>\n",
       "    <tr>\n",
       "      <th>1</th>\n",
       "      <td>**[Vestmark](https://simplify.jobs/c/Vestmark)**</td>\n",
       "      <td>Intern – Software Engineer - Summer 2024</td>\n",
       "      <td>Wakefield, MA</td>\n",
       "      <td>&lt;a href=https://boards.greenhouse.io/vestmark/...</td>\n",
       "      <td>Mar 18</td>\n",
       "    </tr>\n",
       "    <tr>\n",
       "      <th>2</th>\n",
       "      <td>**[Trumid](https://simplify.jobs/c/Trumid)**</td>\n",
       "      <td>Technology Intern</td>\n",
       "      <td>Remote in USA</td>\n",
       "      <td>&lt;a href=https://boards.greenhouse.io/trumid/jo...</td>\n",
       "      <td>Mar 18</td>\n",
       "    </tr>\n",
       "    <tr>\n",
       "      <th>3</th>\n",
       "      <td>**[Square](https://simplify.jobs/c/Square)**</td>\n",
       "      <td>Manufacturing Electrical Engineer Intern - 12-...</td>\n",
       "      <td>Oakland, CA&lt;/br&gt;Remote in USA</td>\n",
       "      <td>&lt;a href=https://jobs.smartrecruiters.com/Squar...</td>\n",
       "      <td>Mar 18</td>\n",
       "    </tr>\n",
       "    <tr>\n",
       "      <th>4</th>\n",
       "      <td>**[Sensata](https://simplify.jobs/c/sensata-te...</td>\n",
       "      <td>IT – Data Analyst Intern-Summer 2024</td>\n",
       "      <td>Attleboro, MA</td>\n",
       "      <td>&lt;a href=https://sensata.wd1.myworkdayjobs.com/...</td>\n",
       "      <td>Mar 18</td>\n",
       "    </tr>\n",
       "  </tbody>\n",
       "</table>\n",
       "</div>"
      ],
      "text/plain": [
       "                                             Company   \n",
       "0  **[Western Digital](https://simplify.jobs/c/We...  \\\n",
       "1   **[Vestmark](https://simplify.jobs/c/Vestmark)**   \n",
       "2       **[Trumid](https://simplify.jobs/c/Trumid)**   \n",
       "3       **[Square](https://simplify.jobs/c/Square)**   \n",
       "4  **[Sensata](https://simplify.jobs/c/sensata-te...   \n",
       "\n",
       "                                                Role   \n",
       "0            Summer 2024 Software Engineering Intern  \\\n",
       "1           Intern – Software Engineer - Summer 2024   \n",
       "2                                  Technology Intern   \n",
       "3  Manufacturing Electrical Engineer Intern - 12-...   \n",
       "4               IT – Data Analyst Intern-Summer 2024   \n",
       "\n",
       "                        Location   \n",
       "0                   Longmont, CO  \\\n",
       "1                  Wakefield, MA   \n",
       "2                  Remote in USA   \n",
       "3  Oakland, CA</br>Remote in USA   \n",
       "4                  Attleboro, MA   \n",
       "\n",
       "                                    Application/Link Date Posted  \n",
       "0  <a href=https://jobs.smartrecruiters.com/Weste...      Mar 18  \n",
       "1  <a href=https://boards.greenhouse.io/vestmark/...      Mar 18  \n",
       "2  <a href=https://boards.greenhouse.io/trumid/jo...      Mar 18  \n",
       "3  <a href=https://jobs.smartrecruiters.com/Squar...      Mar 18  \n",
       "4  <a href=https://sensata.wd1.myworkdayjobs.com/...      Mar 18  "
      ]
     },
     "execution_count": 5,
     "metadata": {},
     "output_type": "execute_result"
    }
   ],
   "source": [
    "filepath = '3-20-24.csv'\n",
    "data = pd.read_csv(filepath)\n",
    "data.head()"
   ]
  },
  {
   "cell_type": "code",
   "execution_count": 6,
   "metadata": {},
   "outputs": [
    {
     "data": {
      "text/html": [
       "<div>\n",
       "<style scoped>\n",
       "    .dataframe tbody tr th:only-of-type {\n",
       "        vertical-align: middle;\n",
       "    }\n",
       "\n",
       "    .dataframe tbody tr th {\n",
       "        vertical-align: top;\n",
       "    }\n",
       "\n",
       "    .dataframe thead th {\n",
       "        text-align: right;\n",
       "    }\n",
       "</style>\n",
       "<table border=\"1\" class=\"dataframe\">\n",
       "  <thead>\n",
       "    <tr style=\"text-align: right;\">\n",
       "      <th></th>\n",
       "      <th>Company</th>\n",
       "      <th>Role</th>\n",
       "      <th>Location</th>\n",
       "      <th>Application/Link</th>\n",
       "      <th>Date Posted</th>\n",
       "    </tr>\n",
       "  </thead>\n",
       "  <tbody>\n",
       "    <tr>\n",
       "      <th>0</th>\n",
       "      <td>Western Digital</td>\n",
       "      <td>Summer 2024 Software Engineering Intern</td>\n",
       "      <td>Longmont, CO</td>\n",
       "      <td>&lt;a href=https://jobs.smartrecruiters.com/Weste...</td>\n",
       "      <td>Mar 18</td>\n",
       "    </tr>\n",
       "    <tr>\n",
       "      <th>1</th>\n",
       "      <td>Vestmark</td>\n",
       "      <td>Intern – Software Engineer - Summer 2024</td>\n",
       "      <td>Wakefield, MA</td>\n",
       "      <td>&lt;a href=https://boards.greenhouse.io/vestmark/...</td>\n",
       "      <td>Mar 18</td>\n",
       "    </tr>\n",
       "    <tr>\n",
       "      <th>2</th>\n",
       "      <td>Trumid</td>\n",
       "      <td>Technology Intern</td>\n",
       "      <td>Remote in USA</td>\n",
       "      <td>&lt;a href=https://boards.greenhouse.io/trumid/jo...</td>\n",
       "      <td>Mar 18</td>\n",
       "    </tr>\n",
       "    <tr>\n",
       "      <th>3</th>\n",
       "      <td>Square</td>\n",
       "      <td>Manufacturing Electrical Engineer Intern - 12-...</td>\n",
       "      <td>Oakland, CA&lt;/br&gt;Remote in USA</td>\n",
       "      <td>&lt;a href=https://jobs.smartrecruiters.com/Squar...</td>\n",
       "      <td>Mar 18</td>\n",
       "    </tr>\n",
       "    <tr>\n",
       "      <th>4</th>\n",
       "      <td>Sensata</td>\n",
       "      <td>IT – Data Analyst Intern-Summer 2024</td>\n",
       "      <td>Attleboro, MA</td>\n",
       "      <td>&lt;a href=https://sensata.wd1.myworkdayjobs.com/...</td>\n",
       "      <td>Mar 18</td>\n",
       "    </tr>\n",
       "  </tbody>\n",
       "</table>\n",
       "</div>"
      ],
      "text/plain": [
       "           Company                                               Role   \n",
       "0  Western Digital            Summer 2024 Software Engineering Intern  \\\n",
       "1         Vestmark           Intern – Software Engineer - Summer 2024   \n",
       "2           Trumid                                  Technology Intern   \n",
       "3           Square  Manufacturing Electrical Engineer Intern - 12-...   \n",
       "4          Sensata               IT – Data Analyst Intern-Summer 2024   \n",
       "\n",
       "                        Location   \n",
       "0                   Longmont, CO  \\\n",
       "1                  Wakefield, MA   \n",
       "2                  Remote in USA   \n",
       "3  Oakland, CA</br>Remote in USA   \n",
       "4                  Attleboro, MA   \n",
       "\n",
       "                                    Application/Link Date Posted  \n",
       "0  <a href=https://jobs.smartrecruiters.com/Weste...      Mar 18  \n",
       "1  <a href=https://boards.greenhouse.io/vestmark/...      Mar 18  \n",
       "2  <a href=https://boards.greenhouse.io/trumid/jo...      Mar 18  \n",
       "3  <a href=https://jobs.smartrecruiters.com/Squar...      Mar 18  \n",
       "4  <a href=https://sensata.wd1.myworkdayjobs.com/...      Mar 18  "
      ]
     },
     "execution_count": 6,
     "metadata": {},
     "output_type": "execute_result"
    }
   ],
   "source": [
    "data['Company'] = data.Company.str.extract(r'\\[(.*?)\\]', expand=False)\n",
    "\n",
    "data.head()"
   ]
  },
  {
   "cell_type": "code",
   "execution_count": 7,
   "metadata": {},
   "outputs": [
    {
     "data": {
      "text/plain": [
       "0     https://jobs.smartrecruiters.com/WesternDigita...\n",
       "1     https://boards.greenhouse.io/vestmark/jobs/580...\n",
       "2     https://boards.greenhouse.io/trumid/jobs/59230...\n",
       "3     https://jobs.smartrecruiters.com/Square/743999...\n",
       "4     https://sensata.wd1.myworkdayjobs.com/en-US/Se...\n",
       "5     https://rockwellautomation.wd1.myworkdayjobs.c...\n",
       "6     https://jobs.lever.co/postera/70212446-041d-4b...\n",
       "7     https://leidos.wd5.myworkdayjobs.com/External/...\n",
       "8     https://leidos.wd5.myworkdayjobs.com/External/...\n",
       "9     https://leidos.wd5.myworkdayjobs.com/External/...\n",
       "10    https://leidos.wd5.myworkdayjobs.com/External/...\n",
       "11    https://dell.wd1.myworkdayjobs.com/External/jo...\n",
       "12    https://dell.wd1.myworkdayjobs.com/External/jo...\n",
       "13    https://crowdstrike.wd5.myworkdayjobs.com/en-u...\n",
       "14    https://www.amazon.jobs/en/jobs/2545578/amazon...\n",
       "15    https://jobs.smartrecruiters.com/Visa/74399997...\n",
       "16    https://boards.greenhouse.io/soundcloud71/jobs...\n",
       "17    https://intel.wd1.myworkdayjobs.com/en-us/exte...\n",
       "18    https://firstam.wd1.myworkdayjobs.com/firstame...\n",
       "19    https://boards.greenhouse.io/schonfeld/jobs/58...\n",
       "20    https://boards.greenhouse.io/schonfeld/jobs/58...\n",
       "21    https://boards.greenhouse.io/schonfeld/jobs/58...\n",
       "22    https://jobs.smartrecruiters.com/Visa/74399997...\n",
       "23    https://www.skydio.com/jobs/5920539003?gh_jid=...\n",
       "24    https://boards.greenhouse.io/schonfeld/jobs/58...\n",
       "25    https://www.lacework.com/job-openings?gh_jid=5...\n",
       "26    https://intel.wd1.myworkdayjobs.com/en-us/exte...\n",
       "27    https://hp.wd5.myworkdayjobs.com/ExternalCaree...\n",
       "28    https://cadence.wd1.myworkdayjobs.com/en-US/Ex...\n",
       "29    https://cadence.wd1.myworkdayjobs.com/en-US/Ex...\n",
       "30    https://boards.greenhouse.io/arcellx/jobs/4389...\n",
       "31    https://boards.greenhouse.io/arcellx/jobs/4389...\n",
       "32    https://jobs.lever.co/smarsh/0e5756dd-a2ce-49a...\n",
       "33    https://www.sharkninja.com/careers/?gh_jid=434...\n",
       "34    https://boards.greenhouse.io/recordedfuture/jo...\n",
       "35    https://boards.greenhouse.io/recordedfuture/jo...\n",
       "36    https://livenation.wd1.myworkdayjobs.com/en-US...\n",
       "37    https://www.five9.com/about/careers/job-detail...\n",
       "38    https://boards.greenhouse.io/earnin/jobs/57960...\n",
       "39    https://ripple.com/careers/all-jobs/job/567028...\n",
       "40    https://leidos.wd5.myworkdayjobs.com/External/...\n",
       "41    https://boards.greenhouse.io/dxacirca/jobs/727...\n",
       "42    https://www.five9.com/about/careers/job-detail...\n",
       "43    https://boards.greenhouse.io/coherehealth/jobs...\n",
       "44    https://jobs.smartrecruiters.com/Visa/74399997...\n",
       "45    https://jobs.smartrecruiters.com/Visa/74399997...\n",
       "46    https://boards.greenhouse.io/truveta/jobs/5069...\n",
       "47    https://jobs.lever.co/curai/9f669138-e676-4a70...\n",
       "48    https://jobs.smartrecruiters.com/Visa/74399997...\n",
       "49    https://arrowheadpharma.com/careers/?gh_jid=42...\n",
       "50    https://www.usertesting.com/company/careers/jo...\n",
       "51    https://www.usertesting.com/company/careers/jo...\n",
       "52    https://www.five9.com/about/careers/job-detail...\n",
       "53    https://boards.greenhouse.io/asteralabs/jobs/4...\n",
       "54    https://www.weareroku.com/jobs/5771844?gh_jid=...\n",
       "Name: Application, dtype: object"
      ]
     },
     "execution_count": 7,
     "metadata": {},
     "output_type": "execute_result"
    }
   ],
   "source": [
    "data['Application'] = data['Application/Link'].str.extract(r'<a(.*?)a>', expand=False)\n",
    "data['Application'] = data['Application'].str.replace('href=', '')\n",
    "data['Application'] = data['Application'].str.extract(r'(https.*Simplify)', expand=False)\n",
    "data['Application']"
   ]
  },
  {
   "cell_type": "markdown",
   "metadata": {},
   "source": []
  },
  {
   "cell_type": "markdown",
   "metadata": {},
   "source": []
  },
  {
   "cell_type": "markdown",
   "metadata": {},
   "source": []
  },
  {
   "cell_type": "code",
   "execution_count": 8,
   "metadata": {},
   "outputs": [
    {
     "data": {
      "text/plain": [
       "'https://boards.greenhouse.io/vestmark/jobs/5802883?utm_source=Simplify&ref=Simplify'"
      ]
     },
     "execution_count": 8,
     "metadata": {},
     "output_type": "execute_result"
    }
   ],
   "source": [
    "data['Application'][1]"
   ]
  },
  {
   "cell_type": "code",
   "execution_count": 9,
   "metadata": {},
   "outputs": [
    {
     "data": {
      "text/plain": [
       "'https://simplify.jobs/p/ff48349d-6c53-409b-8ddc-c6a273140c86?utm_source=GHList'"
      ]
     },
     "execution_count": 9,
     "metadata": {},
     "output_type": "execute_result"
    }
   ],
   "source": [
    "data['link'] = data['Application/Link'].str.extract(r'(https://simplify.*)')\n",
    "data['link'] = data['link'].str.replace(r'\".*', '\"')\n",
    "data['link'] = data['link'].str.extract(r'(https://[^\"\\s>]+)', expand=False) \n",
    "data['link'][1]"
   ]
  },
  {
   "cell_type": "code",
   "execution_count": 10,
   "metadata": {},
   "outputs": [
    {
     "data": {
      "text/plain": [
       "'https://simplify.jobs/p/ff48349d-6c53-409b-8ddc-c6a273140c86?utm_source=GHList'"
      ]
     },
     "execution_count": 10,
     "metadata": {},
     "output_type": "execute_result"
    }
   ],
   "source": [
    "data['link'][1]"
   ]
  },
  {
   "cell_type": "code",
   "execution_count": 11,
   "metadata": {},
   "outputs": [],
   "source": [
    "\n",
    "mask = data['Location'].str.startswith('<')\n",
    "data.loc[mask, 'Location'] = data.loc[mask, 'Location'].str.extract(r'<\\*\\*(.*?)\\*\\*')\n"
   ]
  },
  {
   "cell_type": "code",
   "execution_count": 12,
   "metadata": {},
   "outputs": [],
   "source": [
    "data = data.drop('Application/Link', axis=1)\n"
   ]
  },
  {
   "cell_type": "code",
   "execution_count": 13,
   "metadata": {},
   "outputs": [
    {
     "data": {
      "text/html": [
       "<div>\n",
       "<style scoped>\n",
       "    .dataframe tbody tr th:only-of-type {\n",
       "        vertical-align: middle;\n",
       "    }\n",
       "\n",
       "    .dataframe tbody tr th {\n",
       "        vertical-align: top;\n",
       "    }\n",
       "\n",
       "    .dataframe thead th {\n",
       "        text-align: right;\n",
       "    }\n",
       "</style>\n",
       "<table border=\"1\" class=\"dataframe\">\n",
       "  <thead>\n",
       "    <tr style=\"text-align: right;\">\n",
       "      <th></th>\n",
       "      <th>Company</th>\n",
       "      <th>Role</th>\n",
       "      <th>Location</th>\n",
       "      <th>Date Posted</th>\n",
       "      <th>Application</th>\n",
       "      <th>link</th>\n",
       "    </tr>\n",
       "  </thead>\n",
       "  <tbody>\n",
       "    <tr>\n",
       "      <th>0</th>\n",
       "      <td>Western Digital</td>\n",
       "      <td>Summer 2024 Software Engineering Intern</td>\n",
       "      <td>Longmont, CO</td>\n",
       "      <td>Mar 18</td>\n",
       "      <td>https://jobs.smartrecruiters.com/WesternDigita...</td>\n",
       "      <td>https://simplify.jobs/p/bd4c78d9-1ec8-4abd-9d9...</td>\n",
       "    </tr>\n",
       "    <tr>\n",
       "      <th>1</th>\n",
       "      <td>Vestmark</td>\n",
       "      <td>Intern – Software Engineer - Summer 2024</td>\n",
       "      <td>Wakefield, MA</td>\n",
       "      <td>Mar 18</td>\n",
       "      <td>https://boards.greenhouse.io/vestmark/jobs/580...</td>\n",
       "      <td>https://simplify.jobs/p/ff48349d-6c53-409b-8dd...</td>\n",
       "    </tr>\n",
       "    <tr>\n",
       "      <th>2</th>\n",
       "      <td>Trumid</td>\n",
       "      <td>Technology Intern</td>\n",
       "      <td>Remote in USA</td>\n",
       "      <td>Mar 18</td>\n",
       "      <td>https://boards.greenhouse.io/trumid/jobs/59230...</td>\n",
       "      <td>https://simplify.jobs/p/e4af238a-1542-41d4-9de...</td>\n",
       "    </tr>\n",
       "    <tr>\n",
       "      <th>3</th>\n",
       "      <td>Square</td>\n",
       "      <td>Manufacturing Electrical Engineer Intern - 12-...</td>\n",
       "      <td>Oakland, CA&lt;/br&gt;Remote in USA</td>\n",
       "      <td>Mar 18</td>\n",
       "      <td>https://jobs.smartrecruiters.com/Square/743999...</td>\n",
       "      <td>https://simplify.jobs/p/a75a6316-7a0b-4c32-a95...</td>\n",
       "    </tr>\n",
       "    <tr>\n",
       "      <th>4</th>\n",
       "      <td>Sensata</td>\n",
       "      <td>IT – Data Analyst Intern-Summer 2024</td>\n",
       "      <td>Attleboro, MA</td>\n",
       "      <td>Mar 18</td>\n",
       "      <td>https://sensata.wd1.myworkdayjobs.com/en-US/Se...</td>\n",
       "      <td>https://simplify.jobs/p/c3f01eea-f583-4039-a91...</td>\n",
       "    </tr>\n",
       "  </tbody>\n",
       "</table>\n",
       "</div>"
      ],
      "text/plain": [
       "           Company                                               Role   \n",
       "0  Western Digital            Summer 2024 Software Engineering Intern  \\\n",
       "1         Vestmark           Intern – Software Engineer - Summer 2024   \n",
       "2           Trumid                                  Technology Intern   \n",
       "3           Square  Manufacturing Electrical Engineer Intern - 12-...   \n",
       "4          Sensata               IT – Data Analyst Intern-Summer 2024   \n",
       "\n",
       "                        Location Date Posted   \n",
       "0                   Longmont, CO      Mar 18  \\\n",
       "1                  Wakefield, MA      Mar 18   \n",
       "2                  Remote in USA      Mar 18   \n",
       "3  Oakland, CA</br>Remote in USA      Mar 18   \n",
       "4                  Attleboro, MA      Mar 18   \n",
       "\n",
       "                                         Application   \n",
       "0  https://jobs.smartrecruiters.com/WesternDigita...  \\\n",
       "1  https://boards.greenhouse.io/vestmark/jobs/580...   \n",
       "2  https://boards.greenhouse.io/trumid/jobs/59230...   \n",
       "3  https://jobs.smartrecruiters.com/Square/743999...   \n",
       "4  https://sensata.wd1.myworkdayjobs.com/en-US/Se...   \n",
       "\n",
       "                                                link  \n",
       "0  https://simplify.jobs/p/bd4c78d9-1ec8-4abd-9d9...  \n",
       "1  https://simplify.jobs/p/ff48349d-6c53-409b-8dd...  \n",
       "2  https://simplify.jobs/p/e4af238a-1542-41d4-9de...  \n",
       "3  https://simplify.jobs/p/a75a6316-7a0b-4c32-a95...  \n",
       "4  https://simplify.jobs/p/c3f01eea-f583-4039-a91...  "
      ]
     },
     "execution_count": 13,
     "metadata": {},
     "output_type": "execute_result"
    }
   ],
   "source": [
    "data.head()"
   ]
  },
  {
   "cell_type": "code",
   "execution_count": 14,
   "metadata": {},
   "outputs": [],
   "source": [
    "data['Company'].fillna(method='ffill', inplace=True)"
   ]
  },
  {
   "cell_type": "code",
   "execution_count": 15,
   "metadata": {},
   "outputs": [],
   "source": [
    "data['link'].fillna(method='ffill', inplace=True)"
   ]
  },
  {
   "cell_type": "code",
   "execution_count": 16,
   "metadata": {},
   "outputs": [],
   "source": [
    "data.rename(columns={'Date Posted': 'Date'}, inplace=True)\n"
   ]
  },
  {
   "cell_type": "code",
   "execution_count": 17,
   "metadata": {},
   "outputs": [
    {
     "data": {
      "text/html": [
       "<div>\n",
       "<style scoped>\n",
       "    .dataframe tbody tr th:only-of-type {\n",
       "        vertical-align: middle;\n",
       "    }\n",
       "\n",
       "    .dataframe tbody tr th {\n",
       "        vertical-align: top;\n",
       "    }\n",
       "\n",
       "    .dataframe thead th {\n",
       "        text-align: right;\n",
       "    }\n",
       "</style>\n",
       "<table border=\"1\" class=\"dataframe\">\n",
       "  <thead>\n",
       "    <tr style=\"text-align: right;\">\n",
       "      <th></th>\n",
       "      <th>Company</th>\n",
       "      <th>Role</th>\n",
       "      <th>Location</th>\n",
       "      <th>Date</th>\n",
       "      <th>Application</th>\n",
       "      <th>link</th>\n",
       "    </tr>\n",
       "  </thead>\n",
       "  <tbody>\n",
       "    <tr>\n",
       "      <th>0</th>\n",
       "      <td>Western Digital</td>\n",
       "      <td>Summer 2024 Software Engineering Intern</td>\n",
       "      <td>Longmont, CO</td>\n",
       "      <td>Mar 18</td>\n",
       "      <td>https://jobs.smartrecruiters.com/WesternDigita...</td>\n",
       "      <td>https://simplify.jobs/p/bd4c78d9-1ec8-4abd-9d9...</td>\n",
       "    </tr>\n",
       "    <tr>\n",
       "      <th>1</th>\n",
       "      <td>Vestmark</td>\n",
       "      <td>Intern – Software Engineer - Summer 2024</td>\n",
       "      <td>Wakefield, MA</td>\n",
       "      <td>Mar 18</td>\n",
       "      <td>https://boards.greenhouse.io/vestmark/jobs/580...</td>\n",
       "      <td>https://simplify.jobs/p/ff48349d-6c53-409b-8dd...</td>\n",
       "    </tr>\n",
       "    <tr>\n",
       "      <th>2</th>\n",
       "      <td>Trumid</td>\n",
       "      <td>Technology Intern</td>\n",
       "      <td>Remote in USA</td>\n",
       "      <td>Mar 18</td>\n",
       "      <td>https://boards.greenhouse.io/trumid/jobs/59230...</td>\n",
       "      <td>https://simplify.jobs/p/e4af238a-1542-41d4-9de...</td>\n",
       "    </tr>\n",
       "    <tr>\n",
       "      <th>3</th>\n",
       "      <td>Square</td>\n",
       "      <td>Manufacturing Electrical Engineer Intern - 12-...</td>\n",
       "      <td>Oakland, CA&lt;/br&gt;Remote in USA</td>\n",
       "      <td>Mar 18</td>\n",
       "      <td>https://jobs.smartrecruiters.com/Square/743999...</td>\n",
       "      <td>https://simplify.jobs/p/a75a6316-7a0b-4c32-a95...</td>\n",
       "    </tr>\n",
       "    <tr>\n",
       "      <th>4</th>\n",
       "      <td>Sensata</td>\n",
       "      <td>IT – Data Analyst Intern-Summer 2024</td>\n",
       "      <td>Attleboro, MA</td>\n",
       "      <td>Mar 18</td>\n",
       "      <td>https://sensata.wd1.myworkdayjobs.com/en-US/Se...</td>\n",
       "      <td>https://simplify.jobs/p/c3f01eea-f583-4039-a91...</td>\n",
       "    </tr>\n",
       "  </tbody>\n",
       "</table>\n",
       "</div>"
      ],
      "text/plain": [
       "           Company                                               Role   \n",
       "0  Western Digital            Summer 2024 Software Engineering Intern  \\\n",
       "1         Vestmark           Intern – Software Engineer - Summer 2024   \n",
       "2           Trumid                                  Technology Intern   \n",
       "3           Square  Manufacturing Electrical Engineer Intern - 12-...   \n",
       "4          Sensata               IT – Data Analyst Intern-Summer 2024   \n",
       "\n",
       "                        Location    Date   \n",
       "0                   Longmont, CO  Mar 18  \\\n",
       "1                  Wakefield, MA  Mar 18   \n",
       "2                  Remote in USA  Mar 18   \n",
       "3  Oakland, CA</br>Remote in USA  Mar 18   \n",
       "4                  Attleboro, MA  Mar 18   \n",
       "\n",
       "                                         Application   \n",
       "0  https://jobs.smartrecruiters.com/WesternDigita...  \\\n",
       "1  https://boards.greenhouse.io/vestmark/jobs/580...   \n",
       "2  https://boards.greenhouse.io/trumid/jobs/59230...   \n",
       "3  https://jobs.smartrecruiters.com/Square/743999...   \n",
       "4  https://sensata.wd1.myworkdayjobs.com/en-US/Se...   \n",
       "\n",
       "                                                link  \n",
       "0  https://simplify.jobs/p/bd4c78d9-1ec8-4abd-9d9...  \n",
       "1  https://simplify.jobs/p/ff48349d-6c53-409b-8dd...  \n",
       "2  https://simplify.jobs/p/e4af238a-1542-41d4-9de...  \n",
       "3  https://simplify.jobs/p/a75a6316-7a0b-4c32-a95...  \n",
       "4  https://simplify.jobs/p/c3f01eea-f583-4039-a91...  "
      ]
     },
     "execution_count": 17,
     "metadata": {},
     "output_type": "execute_result"
    }
   ],
   "source": [
    "data.head()"
   ]
  },
  {
   "cell_type": "code",
   "execution_count": 15,
   "metadata": {},
   "outputs": [],
   "source": [
    "data.to_excel('2-17-24.xlsx', index=False)\n"
   ]
  },
  {
   "cell_type": "code",
   "execution_count": 19,
   "metadata": {},
   "outputs": [],
   "source": [
    "data.to_csv('3-20-24-clean.csv', index=False)\n"
   ]
  },
  {
   "cell_type": "code",
   "execution_count": null,
   "metadata": {},
   "outputs": [],
   "source": []
  }
 ],
 "metadata": {
  "kernelspec": {
   "display_name": "Python 3",
   "language": "python",
   "name": "python3"
  },
  "language_info": {
   "codemirror_mode": {
    "name": "ipython",
    "version": 3
   },
   "file_extension": ".py",
   "mimetype": "text/x-python",
   "name": "python",
   "nbconvert_exporter": "python",
   "pygments_lexer": "ipython3",
   "version": "3.11.2"
  }
 },
 "nbformat": 4,
 "nbformat_minor": 2
}
